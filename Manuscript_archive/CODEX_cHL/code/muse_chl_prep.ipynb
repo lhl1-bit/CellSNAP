{
 "cells": [
  {
   "cell_type": "code",
   "execution_count": 1,
   "metadata": {},
   "outputs": [],
   "source": [
    "### still using cellsnap venv\n",
    "\n",
    "import pandas as pd\n",
    "import numpy as np\n",
    "import matplotlib.pyplot as plt\n",
    "import matplotlib.patches as mpatches\n",
    "import anndata as ad\n",
    "import scanpy as sc\n",
    "import sys\n",
    "sys.path.append(\"../../spatial-clust-scripts-main/\")\n",
    "import utils\n",
    "import os\n",
    "from tqdm import tqdm\n",
    "import torch\n",
    "from skimage.io import imread\n",
    "from scipy.io import loadmat\n",
    "from skimage.measure import regionprops\n",
    "from skimage.transform import resize\n",
    "import skimage\n",
    "# import custom functions\n",
    "import torch.nn as nn\n",
    "import torch.nn.functional as F\n",
    "import torch.optim as optim\n",
    "import re\n",
    "import graph\n",
    "import seaborn as sns\n",
    "from skimage.filters import threshold_otsu\n"
   ]
  },
  {
   "cell_type": "markdown",
   "metadata": {},
   "source": [
    "Script used to save out single cell level images for MUSE input"
   ]
  },
  {
   "cell_type": "code",
   "execution_count": 3,
   "metadata": {},
   "outputs": [],
   "source": [
    "def pad_to_square(img):\n",
    "    h = img.shape[0]\n",
    "    w = img.shape[1]\n",
    "    if h < w:\n",
    "        top_extra = (w - h) // 2\n",
    "        bottom_extra = w - h - top_extra\n",
    "        img = np.pad(img, [(top_extra, bottom_extra), (0, 0), (0, 0)])\n",
    "    elif h > w:\n",
    "        left_extra = (h - w) // 2\n",
    "        right_extra = h - w - left_extra\n",
    "        img = np.pad(img, [(0, 0), (left_extra, right_extra), (0, 0)])\n",
    "    return img"
   ]
  },
  {
   "cell_type": "code",
   "execution_count": 32,
   "metadata": {},
   "outputs": [],
   "source": [
    "seg_dir = '../data/images/' \n",
    "img_dir1 = '../data/images/'\n",
    "\n",
    "### load image\n",
    "\n",
    "channel1 = imread(os.path.join(img_dir1, 'DAPI-01.tiff'))\n",
    "channel2 = imread(os.path.join(img_dir1, 'CD30.tiff'))\n",
    "channel3 = imread(os.path.join(img_dir1, 'CD20.tiff'))\n",
    "channel4 = imread(os.path.join(img_dir1, 'Vimentin.tiff'))\n",
    "mem = channel2 + channel3 + channel4\n",
    "nuc = channel1\n",
    "pad_image = np.dstack([nuc, mem])\n",
    "\n",
    "## load seg\n",
    "seg = imread(os.path.join(img_dir1, 'MESMER_mask.tiff'))"
   ]
  },
  {
   "cell_type": "code",
   "execution_count": 36,
   "metadata": {},
   "outputs": [],
   "source": [
    "count = 0\n",
    "props = regionprops(seg) # only run once on entire tile\n",
    "\n",
    "for i in range(df.shape[0]): # loop each cell\n",
    "    cellid = df.loc[i,'cellLabel']\n",
    "    label_in_image = int(cellid)\n",
    "    bounding_box = props[label_in_image]['BoundingBox']\n",
    "    max_height = 64\n",
    "    max_width = 64\n",
    "\n",
    "    whole_image = pad_image.copy()\n",
    "    segmentation = seg.copy()\n",
    "\n",
    "    img_inside_box = whole_image[bounding_box[0]:bounding_box[2], bounding_box[1]:bounding_box[3], :]\n",
    "    seg_inside_box = segmentation[bounding_box[0]:bounding_box[2], bounding_box[1]:bounding_box[3]]\n",
    "\n",
    "    seg_inside_box[seg_inside_box!=(label_in_image + 1)] = 0 \n",
    "    seg_inside_box[seg_inside_box==(label_in_image + 1)] = 1\n",
    "    img_inside_box[:,:,0] = img_inside_box[:,:,0] * seg_inside_box# nuclear\n",
    "    img_inside_box[:,:,1] = img_inside_box[:,:,1] * seg_inside_box# mem\n",
    "\n",
    "    img_inside_box = pad_to_square(img_inside_box)\n",
    "    res = np.array(\n",
    "        [resize(\n",
    "            img_inside_box[:, :, c], (max_height, max_width), preserve_range=True\n",
    "        ) for c in range(img_inside_box.shape[2])]\n",
    "    ).transpose((1, 2, 0))\n",
    "    \n",
    "    \n",
    "    ## for MUSE formatting\n",
    "    bb = res[:,:,:].copy()\n",
    "    z = np.zeros((64, 64, 1),dtype = bb.dtype)\n",
    "    out = np.concatenate((bb,z),axis=2) # Or np.dstack((a,z))\n",
    "\n",
    "    ### transfer to 256 scale with save behavior\n",
    "    thresh = np.quantile(out, 0.95, axis=(0,1))#.shape\n",
    "    # cap\n",
    "    out[:,:,0][out[:,:,0] > thresh[0]] = thresh[0]\n",
    "    out[:,:,1][out[:,:,1] > thresh[1]] = thresh[1]\n",
    "    # to 256\n",
    "    out[:,:,0] = out[:,:,0] / thresh[0] * 255\n",
    "    out[:,:,1] = out[:,:,1] / thresh[1] * 255\n",
    "\n",
    "    img8 = (out).astype('uint8')\n",
    "    dird = 'Img_' + str(count) + '.npy'\n",
    "    np.save('../data/images/muse_use/' + dird, img8)\n",
    "    count = count + 1\n",
    "    plt.imshow(img8)"
   ]
  },
  {
   "cell_type": "markdown",
   "metadata": {},
   "source": [
    "double check single cell images look correct"
   ]
  },
  {
   "cell_type": "code",
   "execution_count": 2,
   "metadata": {},
   "outputs": [
    {
     "data": {
      "text/plain": [
       "<matplotlib.image.AxesImage at 0x753ece9cbc40>"
      ]
     },
     "execution_count": 2,
     "metadata": {},
     "output_type": "execute_result"
    },
    {
     "data": {
      "image/png": "[encoded data removed]",
      "text/plain": [
       "<Figure size 640x480 with 1 Axes>"
      ]
     },
     "metadata": {},
     "output_type": "display_data"
    }
   ],
   "source": [
    "img = np.load('../data/images/muse_use/Img_500.npy')\n",
    "plt.imshow(img)"
   ]
  }
 ],
 "metadata": {
  "kernelspec": {
   "display_name": "muse",
   "language": "python",
   "name": "python3"
  },
  "language_info": {
   "codemirror_mode": {
    "name": "ipython",
    "version": 3
   },
   "file_extension": ".py",
   "mimetype": "text/x-python",
   "name": "python",
   "nbconvert_exporter": "python",
   "pygments_lexer": "ipython3",
   "version": "3.10.9"
  }
 },
 "nbformat": 4,
 "nbformat_minor": 2
}
