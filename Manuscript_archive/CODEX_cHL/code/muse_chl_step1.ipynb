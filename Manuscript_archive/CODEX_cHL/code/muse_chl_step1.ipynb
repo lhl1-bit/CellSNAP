{
 "cells": [
  {
   "cell_type": "code",
   "execution_count": 1,
   "metadata": {},
   "outputs": [],
   "source": [
    "'''\n",
    "Inference of inception-v3 model with pretrained parameters on ImageNet\n",
    "'''\n",
    "\n",
    "import tensorflow.compat.v1 as tf\n",
    "\n",
    "# To make tf 2.0 compatible with tf1.0 code, we disable the tf2.0 functionalities\n",
    "tf.disable_eager_execution()\n",
    "import tensorflow_hub as hub\n",
    "import numpy as np\n",
    "#import cv2\n",
    "import pandas as pd\n",
    "import os\n",
    "#import tqdm\n",
    "from skimage.transform import resize\n",
    "import matplotlib.pyplot as plt"
   ]
  },
  {
   "cell_type": "code",
   "execution_count": 2,
   "metadata": {},
   "outputs": [
    {
     "data": {
      "text/plain": [
       "'Img_32109.npy'"
      ]
     },
     "execution_count": 2,
     "metadata": {},
     "output_type": "execute_result"
    }
   ],
   "source": [
    "arr = os.listdir('../data/images/muse_use/')\n",
    "arr[0]"
   ]
  },
  {
   "cell_type": "code",
   "execution_count": null,
   "metadata": {},
   "outputs": [],
   "source": [
    "# Load saved inception-v3 model\n",
    "module = hub.Module(\"../../Liver_smi/data/inception_v3-1/\")\n",
    "\n",
    "# images should be resized to 299x299\n",
    "input_imgs = tf.placeholder(tf.float32, shape=[None, 299, 299, 3])\n",
    "features = module(input_imgs)\n",
    "#image_no = 50000 # only train on the first 50k cells to save time for benchmarking\n",
    "\n",
    "image_no = 143730\n",
    "res = []\n",
    "\n",
    "with tf.Session() as sess:\n",
    "    sess.run(tf.global_variables_initializer())\n",
    "\n",
    "    for member in range(image_no):\n",
    "        dird = '../data/images/muse_use/Img_' + str(member) + '.npy'\n",
    "        img = np.load(dird)\n",
    "        img = resize(img, (299, 299, 3))\n",
    "        fea = sess.run(features, feed_dict={input_imgs: img[None, :, :, :]}) # train one - one to save memory loading\n",
    "        res.append(fea)"
   ]
  },
  {
   "cell_type": "code",
   "execution_count": 4,
   "metadata": {},
   "outputs": [
    {
     "data": {
      "text/plain": [
       "(143729, 2048)"
      ]
     },
     "execution_count": 4,
     "metadata": {},
     "output_type": "execute_result"
    }
   ],
   "source": [
    "res = np.array(res).squeeze(1)\n",
    "np.save('../data/images/Inception_img_feature_chlcodex_full.npy', res)\n",
    "res.shape"
   ]
  }
 ],
 "metadata": {
  "kernelspec": {
   "display_name": "muse",
   "language": "python",
   "name": "python3"
  },
  "language_info": {
   "codemirror_mode": {
    "name": "ipython",
    "version": 3
   },
   "file_extension": ".py",
   "mimetype": "text/x-python",
   "name": "python",
   "nbconvert_exporter": "python",
   "pygments_lexer": "ipython3",
   "version": "3.6.13"
  }
 },
 "nbformat": 4,
 "nbformat_minor": 2
}
