{
 "cells": [
  {
   "cell_type": "code",
   "execution_count": 1,
   "id": "9605502d",
   "metadata": {},
   "outputs": [
    {
     "name": "stderr",
     "output_type": "stream",
     "text": [
      "/home/bokai/miniconda3/envs/cellsnap/lib/python3.10/site-packages/tqdm/auto.py:22: TqdmWarning: IProgress not found. Please update jupyter and ipywidgets. See https://ipywidgets.readthedocs.io/en/stable/user_install.html\n",
      "  from .autonotebook import tqdm as notebook_tqdm\n"
     ]
    }
   ],
   "source": [
    "import pandas as pd\n",
    "import numpy as np\n",
    "import matplotlib.pyplot as plt\n",
    "import seaborn as sns\n",
    "import sys\n",
    "import anndata as ad \n",
    "import scanpy as sc\n",
    "sys.path.append(\"../../../../\")\n",
    "import utils\n",
    "from sklearn.decomposition import PCA\n",
    "import umap\n",
    "import graph\n",
    "import visualize\n",
    "import sklearn.metrics"
   ]
  },
  {
   "cell_type": "code",
   "execution_count": 3,
   "id": "f536cf10",
   "metadata": {},
   "outputs": [
    {
     "name": "stdout",
     "output_type": "stream",
     "text": [
      "[(53500, 32), (53500, 30), (53500, 47), (53500, 20), (10000, 30)]\n"
     ]
    }
   ],
   "source": [
    "# read in files\n",
    "snap_embed = np.load(\"../data/double_snap_combo_stable_0327.npy\")\n",
    "df = pd.read_csv('../data/features_and_metadata.csv', index_col=0)\n",
    "df = df.drop('nucl', axis = 1) # remove nuclear for vanilla clustering\n",
    "features = df.iloc[:,3:-5].to_numpy()\n",
    "concact_embed = np.load(\"../data/other_methods/concat_embedding.npy\")\n",
    "spice_embed = np.load(\"../data/other_methods/spicemix_embedding.npy\")\n",
    "\n",
    "##### load in muse 0-4 batch results\n",
    "muse_embed0 = np.load(\"../data/other_methods/muse_final_spleen_rdm10k_0.npy\")\n",
    "muse_embed1 = np.load(\"../data/other_methods/muse_final_spleen_rdm10k_1.npy\")\n",
    "muse_embed2 = np.load(\"../data/other_methods/muse_final_spleen_rdm10k_2.npy\")\n",
    "muse_embed3 = np.load(\"../data/other_methods/muse_final_spleen_rdm10k_3.npy\")\n",
    "muse_embed4 = np.load(\"../data/other_methods/muse_final_spleen_rdm10k_4.npy\")\n",
    "muse_embedll = [muse_embed0, muse_embed1, muse_embed2, muse_embed3, muse_embed4]\n",
    "\n",
    "print([snap_embed.shape, features.shape, concact_embed.shape,\n",
    "      spice_embed.shape, muse_embed0.shape])"
   ]
  },
  {
   "cell_type": "code",
   "execution_count": 4,
   "id": "ca4cadb7",
   "metadata": {},
   "outputs": [
    {
     "name": "stdout",
     "output_type": "stream",
     "text": [
      "at 0\n",
      "at 1\n",
      "at 2\n",
      "at 3\n",
      "at 4\n"
     ]
    }
   ],
   "source": [
    "# for loop start:\n",
    "batch = 5\n",
    "dflist = []\n",
    "for i in range(batch):\n",
    "    print('at', i)\n",
    "    \n",
    "    indices = np.random.choice(snap_embed.shape[0], 10000, replace=False)\n",
    "    \n",
    "    snap_embed_sub = snap_embed[indices]\n",
    "    features_sub = features[indices]\n",
    "    concact_embed_sub = concact_embed[indices]\n",
    "    spice_embed_sub = spice_embed[indices]\n",
    "    muse_embed_sub = muse_embedll[i]\n",
    "    \n",
    "    ##### calculate umap\n",
    "    \n",
    "    # start to calculate silhoutte score\n",
    "    feature_ss_list = []\n",
    "    snap_ss_list = []\n",
    "    concact_ss_list = []\n",
    "    spice_ss_list = []\n",
    "    muse_ss_list = []\n",
    "    k_clusters = [x for x in range(5,30,2)]\n",
    "\n",
    "    for k in k_clusters:\n",
    "\n",
    "        ## feature\n",
    "        feature_edges = graph.get_feature_edges(\n",
    "            arr=features_sub, pca_components=None,\n",
    "            n_neighbors=15, metric='correlation', verbose=False\n",
    "        )\n",
    "        feature_labels = graph.graph_clustering(\n",
    "            features_sub.shape[0], feature_edges, resolution=None, n_clusters=k, n_runs=1,\n",
    "            resolution_tol=0.05, seed=None, verbose=False\n",
    "        )\n",
    "\n",
    "        ## snap\n",
    "        snap_edges = graph.get_feature_edges(\n",
    "            arr=snap_embed_sub, pca_components=None,\n",
    "            n_neighbors=15, metric='correlation', verbose=False\n",
    "        )\n",
    "        snap_labels = graph.graph_clustering(\n",
    "            snap_embed_sub.shape[0], snap_edges, resolution=None, n_clusters=k, n_runs=1,\n",
    "            resolution_tol=0.05, seed=None, verbose=False\n",
    "        )\n",
    "\n",
    "        ## concact \n",
    "        concact_edges = graph.get_feature_edges(\n",
    "            arr=concact_embed_sub, pca_components=None,\n",
    "            n_neighbors=15, metric='correlation', verbose=False\n",
    "        )\n",
    "        concact_labels = graph.graph_clustering(\n",
    "            concact_embed_sub.shape[0], concact_edges, resolution=None, n_clusters=k, n_runs=1,\n",
    "            resolution_tol=0.05, seed=None, verbose=False\n",
    "        )\n",
    "        \n",
    "        ## muse \n",
    "        muse_edges = graph.get_feature_edges(\n",
    "            arr=muse_embed_sub, pca_components=None,\n",
    "            n_neighbors=15, metric='correlation', verbose=False\n",
    "        )\n",
    "        muse_labels = graph.graph_clustering(\n",
    "            muse_embed_sub.shape[0], muse_edges, resolution=None, n_clusters=k, n_runs=1,\n",
    "            resolution_tol=0.05, seed=None, verbose=False\n",
    "        )\n",
    "        \n",
    "        ## spice \n",
    "        spice_edges = graph.get_feature_edges(\n",
    "            arr=spice_embed_sub, pca_components=None,\n",
    "            n_neighbors=15, metric='correlation', verbose=False\n",
    "        )\n",
    "        spice_labels = graph.graph_clustering(\n",
    "            spice_embed_sub.shape[0], spice_edges, resolution=None, n_clusters=k, n_runs=1,\n",
    "            resolution_tol=0.05, seed=None, verbose=False\n",
    "        )\n",
    "\n",
    "        feature_ss = sklearn.metrics.calinski_harabasz_score(features_sub, feature_labels)\n",
    "        snap_ss = sklearn.metrics.calinski_harabasz_score(snap_embed_sub, snap_labels)\n",
    "        concact_ss = sklearn.metrics.calinski_harabasz_score(concact_embed_sub, concact_labels)\n",
    "        spice_ss = sklearn.metrics.calinski_harabasz_score(spice_embed_sub, spice_labels)\n",
    "        muse_ss = sklearn.metrics.calinski_harabasz_score(muse_embed_sub, muse_labels)\n",
    "\n",
    "        feature_ss_list.append(feature_ss)\n",
    "        snap_ss_list.append(snap_ss)\n",
    "        concact_ss_list.append(concact_ss)\n",
    "        spice_ss_list.append(spice_ss)\n",
    "        muse_ss_list.append(muse_ss)\n",
    "        \n",
    "    data = {'k':k_clusters, 'ch_feature':feature_ss_list,\n",
    "            'ch_snap':snap_ss_list,'ch_concact':concact_ss_list,\n",
    "           'ch_spice':spice_ss_list, 'ch_muse':muse_ss_list}\n",
    "    \n",
    "    df = pd.DataFrame(data)\n",
    "    df['batch'] = i\n",
    "    dflist.append(df)\n",
    "    \n"
   ]
  },
  {
   "cell_type": "code",
   "execution_count": 5,
   "id": "eefb3194",
   "metadata": {},
   "outputs": [],
   "source": [
    "test = pd.concat(dflist)\n",
    "test2 = test.melt(id_vars=['k'], value_vars=['ch_feature', 'ch_snap', 'ch_concact', 'ch_spice', 'ch_muse'])\n",
    "test2.to_csv('../data/CH_result_spleen_0327.csv')\n",
    "\n",
    "#plot = sns.lineplot(data=test2,x=\"k\", y=\"value\", hue=\"variable\")\n",
    "#fig = plot.get_figure()\n",
    "#fig.savefig('../plots/CH_allmethods_dbGNNstab.svg', dpi = 300) "
   ]
  }
 ],
 "metadata": {
  "kernelspec": {
   "display_name": "Python 3 (ipykernel)",
   "language": "python",
   "name": "python3"
  },
  "language_info": {
   "codemirror_mode": {
    "name": "ipython",
    "version": 3
   },
   "file_extension": ".py",
   "mimetype": "text/x-python",
   "name": "python",
   "nbconvert_exporter": "python",
   "pygments_lexer": "ipython3",
   "version": "3.10.9"
  }
 },
 "nbformat": 4,
 "nbformat_minor": 5
}
